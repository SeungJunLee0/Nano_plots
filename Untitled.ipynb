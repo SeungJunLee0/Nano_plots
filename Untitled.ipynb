{
 "cells": [
  {
   "cell_type": "code",
   "execution_count": 9,
   "id": "36c0cda0-e6ca-451e-a015-fdadbaa3c7a8",
   "metadata": {},
   "outputs": [
    {
     "name": "stdout",
     "output_type": "stream",
     "text": [
      "▶ B-tagging_combine\n"
     ]
    },
    {
     "name": "stderr",
     "output_type": "stream",
     "text": [
      "/home/sjlee/micromamba/envs/nu2flows-py310/lib/python3.10/site-packages/mplhep/utils.py:486: RuntimeWarning: All sumw are zero!  Cannot compute meaningful error bars\n",
      "  return np.abs(method_fcn(self.values, variances) - self.values)\n"
     ]
    },
    {
     "name": "stdout",
     "output_type": "stream",
     "text": [
      "▶ B-tagging_ee\n"
     ]
    },
    {
     "name": "stderr",
     "output_type": "stream",
     "text": [
      "/home/sjlee/micromamba/envs/nu2flows-py310/lib/python3.10/site-packages/mplhep/utils.py:486: RuntimeWarning: All sumw are zero!  Cannot compute meaningful error bars\n",
      "  return np.abs(method_fcn(self.values, variances) - self.values)\n"
     ]
    },
    {
     "name": "stdout",
     "output_type": "stream",
     "text": [
      "▶ B-tagging_em\n"
     ]
    },
    {
     "name": "stderr",
     "output_type": "stream",
     "text": [
      "/home/sjlee/micromamba/envs/nu2flows-py310/lib/python3.10/site-packages/mplhep/utils.py:486: RuntimeWarning: All sumw are zero!  Cannot compute meaningful error bars\n",
      "  return np.abs(method_fcn(self.values, variances) - self.values)\n"
     ]
    },
    {
     "name": "stdout",
     "output_type": "stream",
     "text": [
      "▶ B-tagging_mm\n"
     ]
    },
    {
     "name": "stderr",
     "output_type": "stream",
     "text": [
      "/home/sjlee/micromamba/envs/nu2flows-py310/lib/python3.10/site-packages/mplhep/utils.py:486: RuntimeWarning: All sumw are zero!  Cannot compute meaningful error bars\n",
      "  return np.abs(method_fcn(self.values, variances) - self.values)\n"
     ]
    },
    {
     "name": "stdout",
     "output_type": "stream",
     "text": [
      "▶ b_all_pt_eta\n",
      "   ✖ Skipping non-1D histogram (dim={mc_h.GetDimension()})\n",
      "▶ b_tagged_pt_eta\n",
      "   ✖ Skipping non-1D histogram (dim={mc_h.GetDimension()})\n",
      "▶ c_all_pt_eta\n",
      "   ✖ Skipping non-1D histogram (dim={mc_h.GetDimension()})\n",
      "▶ c_tagged_pt_eta\n",
      "   ✖ Skipping non-1D histogram (dim={mc_h.GetDimension()})\n",
      "▶ light_all_pt_eta\n",
      "   ✖ Skipping non-1D histogram (dim={mc_h.GetDimension()})\n",
      "▶ light_tagged_pt_eta\n",
      "   ✖ Skipping non-1D histogram (dim={mc_h.GetDimension()})\n",
      "▶ count\n",
      "▶ numberofBtaggingJet\n"
     ]
    },
    {
     "name": "stderr",
     "output_type": "stream",
     "text": [
      "/home/sjlee/micromamba/envs/nu2flows-py310/lib/python3.10/site-packages/mplhep/utils.py:486: RuntimeWarning: All sumw are zero!  Cannot compute meaningful error bars\n",
      "  return np.abs(method_fcn(self.values, variances) - self.values)\n"
     ]
    },
    {
     "name": "stdout",
     "output_type": "stream",
     "text": [
      "▶ numberofBtaggingJet_mumu\n",
      "▶ numberofBtaggingJet_ee\n",
      "▶ numberofBtaggingJet_emu\n",
      "▶ numberofBtaggingJet_control\n",
      "▶ mumu_Control_MET\n",
      "▶ mumu_Control_lep1pt\n",
      "▶ mumu_Control_lep2pt\n",
      "▶ mumu_Control_lep1eta\n",
      "▶ mumu_Control_lep2eta\n",
      "▶ mumu_Control_jet1eta\n",
      "▶ mumu_Control_jet2eta\n",
      "▶ mumu_Control_jet1pt\n",
      "▶ mumu_Control_jet2pt\n",
      "▶ mumu_Control_m_ll\n",
      "▶ emu_Control_MET\n",
      "▶ emu_Control_lep1pt\n",
      "▶ emu_Control_lep2pt\n",
      "▶ emu_Control_lep1eta\n",
      "▶ emu_Control_lep2eta\n",
      "▶ emu_Control_jet1eta\n",
      "▶ emu_Control_jet2eta\n",
      "▶ emu_Control_jet1pt\n",
      "▶ emu_Control_jet2pt\n",
      "▶ emu_Control_m_ll\n",
      "▶ ee_Control_MET\n",
      "▶ ee_Control_lep1pt\n",
      "▶ ee_Control_lep2pt\n",
      "▶ ee_Control_lep1eta\n",
      "▶ ee_Control_lep2eta\n",
      "▶ ee_Control_jet1eta\n",
      "▶ ee_Control_jet2eta\n",
      "▶ ee_Control_jet1pt\n",
      "▶ ee_Control_jet2pt\n",
      "▶ ee_Control_m_ll\n",
      "▶ combine_Control_MET\n"
     ]
    },
    {
     "name": "stderr",
     "output_type": "stream",
     "text": [
      "/home/sjlee/micromamba/envs/nu2flows-py310/lib/python3.10/site-packages/mplhep/utils.py:486: RuntimeWarning: All sumw are zero!  Cannot compute meaningful error bars\n",
      "  return np.abs(method_fcn(self.values, variances) - self.values)\n"
     ]
    },
    {
     "name": "stdout",
     "output_type": "stream",
     "text": [
      "▶ combine_Control_lep1pt\n"
     ]
    },
    {
     "name": "stderr",
     "output_type": "stream",
     "text": [
      "/home/sjlee/micromamba/envs/nu2flows-py310/lib/python3.10/site-packages/mplhep/utils.py:486: RuntimeWarning: All sumw are zero!  Cannot compute meaningful error bars\n",
      "  return np.abs(method_fcn(self.values, variances) - self.values)\n"
     ]
    },
    {
     "name": "stdout",
     "output_type": "stream",
     "text": [
      "▶ combine_Control_lep2pt\n"
     ]
    },
    {
     "name": "stderr",
     "output_type": "stream",
     "text": [
      "/home/sjlee/micromamba/envs/nu2flows-py310/lib/python3.10/site-packages/mplhep/utils.py:486: RuntimeWarning: All sumw are zero!  Cannot compute meaningful error bars\n",
      "  return np.abs(method_fcn(self.values, variances) - self.values)\n"
     ]
    },
    {
     "name": "stdout",
     "output_type": "stream",
     "text": [
      "▶ combine_Control_lep1eta\n"
     ]
    },
    {
     "name": "stderr",
     "output_type": "stream",
     "text": [
      "/home/sjlee/micromamba/envs/nu2flows-py310/lib/python3.10/site-packages/mplhep/utils.py:486: RuntimeWarning: All sumw are zero!  Cannot compute meaningful error bars\n",
      "  return np.abs(method_fcn(self.values, variances) - self.values)\n"
     ]
    },
    {
     "name": "stdout",
     "output_type": "stream",
     "text": [
      "▶ combine_Control_lep2eta\n"
     ]
    },
    {
     "name": "stderr",
     "output_type": "stream",
     "text": [
      "/home/sjlee/micromamba/envs/nu2flows-py310/lib/python3.10/site-packages/mplhep/utils.py:486: RuntimeWarning: All sumw are zero!  Cannot compute meaningful error bars\n",
      "  return np.abs(method_fcn(self.values, variances) - self.values)\n"
     ]
    },
    {
     "name": "stdout",
     "output_type": "stream",
     "text": [
      "▶ combine_Control_jet1eta\n"
     ]
    },
    {
     "name": "stderr",
     "output_type": "stream",
     "text": [
      "/home/sjlee/micromamba/envs/nu2flows-py310/lib/python3.10/site-packages/mplhep/utils.py:486: RuntimeWarning: All sumw are zero!  Cannot compute meaningful error bars\n",
      "  return np.abs(method_fcn(self.values, variances) - self.values)\n"
     ]
    },
    {
     "name": "stdout",
     "output_type": "stream",
     "text": [
      "▶ combine_Control_jet2eta\n"
     ]
    },
    {
     "name": "stderr",
     "output_type": "stream",
     "text": [
      "/home/sjlee/micromamba/envs/nu2flows-py310/lib/python3.10/site-packages/mplhep/utils.py:486: RuntimeWarning: All sumw are zero!  Cannot compute meaningful error bars\n",
      "  return np.abs(method_fcn(self.values, variances) - self.values)\n"
     ]
    },
    {
     "name": "stdout",
     "output_type": "stream",
     "text": [
      "▶ combine_Control_jet1pt\n"
     ]
    },
    {
     "name": "stderr",
     "output_type": "stream",
     "text": [
      "/home/sjlee/micromamba/envs/nu2flows-py310/lib/python3.10/site-packages/mplhep/utils.py:486: RuntimeWarning: All sumw are zero!  Cannot compute meaningful error bars\n",
      "  return np.abs(method_fcn(self.values, variances) - self.values)\n"
     ]
    },
    {
     "name": "stdout",
     "output_type": "stream",
     "text": [
      "▶ combine_Control_jet2pt\n"
     ]
    },
    {
     "name": "stderr",
     "output_type": "stream",
     "text": [
      "/home/sjlee/micromamba/envs/nu2flows-py310/lib/python3.10/site-packages/mplhep/utils.py:486: RuntimeWarning: All sumw are zero!  Cannot compute meaningful error bars\n",
      "  return np.abs(method_fcn(self.values, variances) - self.values)\n"
     ]
    },
    {
     "name": "stdout",
     "output_type": "stream",
     "text": [
      "▶ combine_Control_m_ll\n"
     ]
    },
    {
     "name": "stderr",
     "output_type": "stream",
     "text": [
      "/home/sjlee/micromamba/envs/nu2flows-py310/lib/python3.10/site-packages/mplhep/utils.py:486: RuntimeWarning: All sumw are zero!  Cannot compute meaningful error bars\n",
      "  return np.abs(method_fcn(self.values, variances) - self.values)\n"
     ]
    },
    {
     "name": "stdout",
     "output_type": "stream",
     "text": [
      "▶ mumu_Zerotag_MET\n",
      "▶ mumu_Zerotag_lep1pt\n",
      "▶ mumu_Zerotag_lep2pt\n",
      "▶ mumu_Zerotag_lep1eta\n",
      "▶ mumu_Zerotag_lep2eta\n",
      "▶ mumu_Zerotag_jet1eta\n",
      "▶ mumu_Zerotag_jet2eta\n",
      "▶ mumu_Zerotag_jet1pt\n",
      "▶ mumu_Zerotag_jet2pt\n",
      "▶ mumu_Zerotag_m_ll\n",
      "▶ emu_Zerotag_MET\n",
      "▶ emu_Zerotag_lep1pt\n",
      "▶ emu_Zerotag_lep2pt\n",
      "▶ emu_Zerotag_lep1eta\n",
      "▶ emu_Zerotag_lep2eta\n",
      "▶ emu_Zerotag_jet1eta\n",
      "▶ emu_Zerotag_jet2eta\n",
      "▶ emu_Zerotag_jet1pt\n",
      "▶ emu_Zerotag_jet2pt\n",
      "▶ emu_Zerotag_m_ll\n",
      "▶ ee_Zerotag_MET\n",
      "▶ ee_Zerotag_lep1pt\n",
      "▶ ee_Zerotag_lep2pt\n",
      "▶ ee_Zerotag_lep1eta\n",
      "▶ ee_Zerotag_lep2eta\n",
      "▶ ee_Zerotag_jet1eta\n",
      "▶ ee_Zerotag_jet2eta\n",
      "▶ ee_Zerotag_jet1pt\n",
      "▶ ee_Zerotag_jet2pt\n",
      "▶ ee_Zerotag_m_ll\n",
      "▶ combine_Zerotag_MET\n",
      "▶ combine_Zerotag_lep1pt\n",
      "▶ combine_Zerotag_lep2pt\n",
      "▶ combine_Zerotag_lep1eta\n",
      "▶ combine_Zerotag_lep2eta\n",
      "▶ combine_Zerotag_jet1eta\n",
      "▶ combine_Zerotag_jet2eta\n",
      "▶ combine_Zerotag_jet1pt\n",
      "▶ combine_Zerotag_jet2pt\n",
      "▶ combine_Zerotag_m_ll\n",
      "▶ mumu_Onetag_MET\n",
      "▶ mumu_Onetag_lep1pt\n",
      "▶ mumu_Onetag_lep2pt\n",
      "▶ mumu_Onetag_lep1eta\n",
      "▶ mumu_Onetag_lep2eta\n",
      "▶ mumu_Onetag_jet1eta\n",
      "▶ mumu_Onetag_jet2eta\n",
      "▶ mumu_Onetag_jet1pt\n",
      "▶ mumu_Onetag_jet2pt\n",
      "▶ mumu_Onetag_m_ll\n",
      "▶ emu_Onetag_MET\n",
      "▶ emu_Onetag_lep1pt\n",
      "▶ emu_Onetag_lep2pt\n",
      "▶ emu_Onetag_lep1eta\n",
      "▶ emu_Onetag_lep2eta\n",
      "▶ emu_Onetag_jet1eta\n",
      "▶ emu_Onetag_jet2eta\n",
      "▶ emu_Onetag_jet1pt\n",
      "▶ emu_Onetag_jet2pt\n",
      "▶ emu_Onetag_m_ll\n",
      "▶ ee_Onetag_MET\n",
      "▶ ee_Onetag_lep1pt\n",
      "▶ ee_Onetag_lep2pt\n",
      "▶ ee_Onetag_lep1eta\n",
      "▶ ee_Onetag_lep2eta\n",
      "▶ ee_Onetag_jet1eta\n",
      "▶ ee_Onetag_jet2eta\n",
      "▶ ee_Onetag_jet1pt\n",
      "▶ ee_Onetag_jet2pt\n",
      "▶ ee_Onetag_m_ll\n",
      "▶ combine_Onetag_MET\n",
      "▶ combine_Onetag_lep1pt\n",
      "▶ combine_Onetag_lep2pt\n",
      "▶ combine_Onetag_lep1eta\n",
      "▶ combine_Onetag_lep2eta\n",
      "▶ combine_Onetag_jet1eta\n",
      "▶ combine_Onetag_jet2eta\n",
      "▶ combine_Onetag_jet1pt\n",
      "▶ combine_Onetag_jet2pt\n",
      "▶ combine_Onetag_m_ll\n",
      "▶ mumu_Twotag_MET\n",
      "▶ mumu_Twotag_lep1pt\n",
      "▶ mumu_Twotag_lep2pt\n",
      "▶ mumu_Twotag_lep1eta\n",
      "▶ mumu_Twotag_lep2eta\n",
      "▶ mumu_Twotag_jet1eta\n",
      "▶ mumu_Twotag_jet2eta\n",
      "▶ mumu_Twotag_jet1pt\n",
      "▶ mumu_Twotag_jet2pt\n",
      "▶ mumu_Twotag_m_ll\n",
      "▶ emu_Twotag_MET\n",
      "▶ emu_Twotag_lep1pt\n",
      "▶ emu_Twotag_lep2pt\n",
      "▶ emu_Twotag_lep1eta\n",
      "▶ emu_Twotag_lep2eta\n",
      "▶ emu_Twotag_jet1eta\n",
      "▶ emu_Twotag_jet2eta\n",
      "▶ emu_Twotag_jet1pt\n",
      "▶ emu_Twotag_jet2pt\n",
      "▶ emu_Twotag_m_ll\n",
      "▶ ee_Twotag_MET\n",
      "▶ ee_Twotag_lep1pt\n",
      "▶ ee_Twotag_lep2pt\n",
      "▶ ee_Twotag_lep1eta\n",
      "▶ ee_Twotag_lep2eta\n",
      "▶ ee_Twotag_jet1eta\n",
      "▶ ee_Twotag_jet2eta\n",
      "▶ ee_Twotag_jet1pt\n",
      "▶ ee_Twotag_jet2pt\n",
      "▶ ee_Twotag_m_ll\n",
      "▶ combine_Twotag_MET\n",
      "▶ combine_Twotag_lep1pt\n",
      "▶ combine_Twotag_lep2pt\n",
      "▶ combine_Twotag_lep1eta\n",
      "▶ combine_Twotag_lep2eta\n",
      "▶ combine_Twotag_jet1eta\n",
      "▶ combine_Twotag_jet2eta\n",
      "▶ combine_Twotag_jet1pt\n",
      "▶ combine_Twotag_jet2pt\n",
      "▶ combine_Twotag_m_ll\n",
      "✅ All plots saved in compare_plots_mpl\n"
     ]
    }
   ],
   "source": [
    "import ROOT\n",
    "import numpy as np\n",
    "# Suppress ROOT warnings for Sumw2\n",
    "ROOT.gErrorIgnoreLevel = ROOT.kError\n",
    "import matplotlib.pyplot as plt\n",
    "import mplhep as hep\n",
    "import os\n",
    "\n",
    "# ─── 0) 파일 경로 & 설정 ──────────────────────────────────────────────\n",
    "data_files = [\n",
    "    \"DoubleMuon_Data_2018.root\",\n",
    "    \"MuonEG_Data_2018.root\",\n",
    "    \"EGamma_Data_2018.root\",\n",
    "    \"SingleMuon_Data_2018.root\",\n",
    "]\n",
    "\n",
    "mc_files = [\n",
    "    \"DYJetsToLL_M-10to50_MC_2018.root\",\n",
    "    \"DYJetsToLL_M-50_MC_2018.root\",\n",
    "    \"ST_s-channel_MC_2018.root\",\n",
    "    \"ST_t-channel_antitop_MC_2018.root\",\n",
    "    \"ST_t-channel_top_MC_2018.root\",\n",
    "    \"ST_tW_antitop_MC_2018.root\",\n",
    "    \"ST_tW_top_MC_2018.root\",\n",
    "    \"TTTo2L2Nu_MC_2018.root\",\n",
    "    \"TTToHadronic_MC_2018.root\",\n",
    "    \"TTToSemiLeptonic_MC_2018.root\",\n",
    "    \"TTWJetsToLNu_MC_2018.root\",\n",
    "    \"TTWJetsToQQ_MC_2018.root\",\n",
    "    \"TTZToLLNuNu_MC_2018.root\",\n",
    "    \"TTZToQQ_MC_2018.root\",\n",
    "    \"WJetsToLNu_0J_MC_2018.root\",\n",
    "    \"WJetsToLNu_1J_MC_2018.root\",\n",
    "    \"WJetsToLNu_2J_MC_2018.root\",\n",
    "    \"WJetsToLNu_MC_2018.root\",\n",
    "    \"WW_MC_2018.root\",\n",
    "    \"WZ_MC_2018.root\",\n",
    "    \"ZZ_MC_2018.root\",\n",
    "]\n",
    "\n",
    "cross_sections_pb = {\n",
    "    \"DYJetsToLL_M-10to50_MC_2018.root\": 18610.0,\n",
    "    \"DYJetsToLL_M-50_MC_2018.root\":    6077.22,\n",
    "    \"ST_s-channel_MC_2018.root\":       10.32,\n",
    "    \"ST_t-channel_antitop_MC_2018.root\": 80.95,\n",
    "    \"ST_t-channel_top_MC_2018.root\":   136.02,\n",
    "    \"ST_tW_antitop_MC_2018.root\":      19.89,\n",
    "    \"ST_tW_top_MC_2018.root\":          19.89,\n",
    "    \"TTTo2L2Nu_MC_2018.root\":          89.05,\n",
    "    \"TTToHadronic_MC_2018.root\":       831.76 * 0.45441,\n",
    "    \"TTToSemiLeptonic_MC_2018.root\":   831.76 * 0.44113,\n",
    "    \"TTWJetsToLNu_MC_2018.root\":       0.2043,\n",
    "    \"TTWJetsToQQ_MC_2018.root\":        0.4062,\n",
    "    \"TTZToLLNuNu_MC_2018.root\":        0.2529,\n",
    "    \"TTZToQQ_MC_2018.root\":            0.5297,\n",
    "    \"WJetsToLNu_0J_MC_2018.root\":      49063.0,\n",
    "    \"WJetsToLNu_1J_MC_2018.root\":      9141.0,\n",
    "    \"WJetsToLNu_2J_MC_2018.root\":      3505.0,\n",
    "    \"WJetsToLNu_MC_2018.root\":         61526.0,\n",
    "    \"WW_MC_2018.root\":                 118.7,\n",
    "    \"WZ_MC_2018.root\":                 46.75,\n",
    "    \"ZZ_MC_2018.root\":                 16.91,\n",
    "}\n",
    "\n",
    "luminosity_pb = 59.740 * 1000.0  # pb^-1\n",
    "out_dir = \"compare_plots_mpl\"\n",
    "os.makedirs(out_dir, exist_ok=True)\n",
    "\n",
    "# ─── 1) 히스토그램 이름 추출 ────────────────────────────────────────────\n",
    "def get_hist_names(fn):\n",
    "    f = ROOT.TFile.Open(fn)\n",
    "    f.cd(\"plots\")\n",
    "    names = [k.GetName() for k in ROOT.gDirectory.GetListOfKeys()]\n",
    "    f.Close()\n",
    "    return names\n",
    "\n",
    "hist_names = get_hist_names(mc_files[0])\n",
    "\n",
    "# ─── 2) 루프: 각 히스토그램별 Data/MC 읽고 2패널 그리기 ─────────────────────\n",
    "for hname in hist_names:\n",
    "    print(\"▶\", hname)\n",
    "\n",
    "    # --- 2-1) Data 누적 ---\n",
    "    data_h = None\n",
    "    for fn in data_files:\n",
    "        f = ROOT.TFile.Open(fn)\n",
    "        h = f.Get(f\"plots/{hname}\")\n",
    "        if h:\n",
    "            if data_h is None:\n",
    "                data_h = h.Clone(\"data_tmp\")\n",
    "                data_h.SetDirectory(0)\n",
    "            else:\n",
    "                data_h.Add(h)\n",
    "        f.Close()\n",
    "    if data_h is None:\n",
    "        print(\"   ✖ No data, skipping\")\n",
    "        continue\n",
    "\n",
    "    # --- 2-2) MC 누적 & scaling ---\n",
    "    mc_h = None\n",
    "    for fn in mc_files:\n",
    "        f = ROOT.TFile.Open(fn)\n",
    "        h = f.Get(f\"plots/{hname}\")\n",
    "        if h:\n",
    "            xsec = cross_sections_pb.get(fn, 1.0)\n",
    "            cnt  = f.Get(\"plots/count\")\n",
    "            n_events = cnt.GetSumOfWeights()              # 혹은 Integral(0,nb+1)\n",
    "\n",
    "            #if cnt and cnt.GetBinContent(1) > 0:\n",
    "            if cnt and  n_events > 0:\n",
    "\n",
    "                #scale = (xsec * luminosity_pb) / cnt.GetBinContent(1)\n",
    "                scale = (xsec * luminosity_pb) / n_events\n",
    "                tmp = h.Clone(\"mc_tmp\")\n",
    "                tmp.SetDirectory(0)\n",
    "                tmp.Sumw2()\n",
    "                tmp.Scale(scale)\n",
    "                if mc_h is None:\n",
    "                    mc_h = tmp\n",
    "                else:\n",
    "                    mc_h.Add(tmp)\n",
    "        f.Close()\n",
    "    if mc_h is None:\n",
    "        print(\"   ✖ No MC, skipping\")\n",
    "        continue\n",
    "\n",
    "    # --- 2-3) 차원 검사: 1D(hist dimension == 1) 만 처리 ---\n",
    "    if mc_h.GetDimension() != 1 or data_h.GetDimension() != 1:\n",
    "        print(f\"   ✖ Skipping non-1D histogram (dim={{mc_h.GetDimension()}})\")\n",
    "        continue\n",
    "\n",
    "    # --- 2-4) NumPy 배열로 변환 ---\n",
    "    nb = data_h.GetNbinsX()\n",
    "    edges = np.array([\n",
    "        data_h.GetBinLowEdge(i) for i in range(1, nb+1)\n",
    "    ] + [data_h.GetBinLowEdge(nb) + data_h.GetBinWidth(nb)])\n",
    "    bin_centers = 0.5 * (edges[:-1] + edges[1:])\n",
    "    dat_counts  = np.array([data_h.GetBinContent(i) for i in range(1, nb+1)])\n",
    "    mc_counts   = np.array([mc_h.GetBinContent(i)   for i in range(1, nb+1)])\n",
    "    dat_err     = np.sqrt(dat_counts)\n",
    "\n",
    "    # --- 2-5) 그리기: CMS style 2패널 ---\n",
    "    plt.style.use(hep.style.CMS)\n",
    "    fig, (ax, axr) = plt.subplots(\n",
    "        nrows=2, sharex=True,\n",
    "        gridspec_kw={\"height_ratios\": [3, 1], \"hspace\": 0.05},\n",
    "        figsize=(10, 8), dpi=150\n",
    "    )\n",
    "\n",
    "    # 상단: MC fill + Data errorbar\n",
    "    hep.histplot(mc_counts,  bins=edges, histtype=\"fill\",     label=\"MC\",   ax=ax)\n",
    "    hep.histplot(dat_counts, bins=edges, histtype=\"errorbar\", label=\"Data\", ax=ax)\n",
    "    ax.set_ylabel(\"Events / bin\")\n",
    "    hep.cms.label(\"Private Work\", data=True, lumi=59.8, year=2018, ax=ax)\n",
    "    ax.legend(loc=\"upper right\")\n",
    "\n",
    "    # 하단: ratio (분모=0 처리)\n",
    "    mask = mc_counts > 0\n",
    "    ratio     = np.divide(dat_counts,  mc_counts,\n",
    "                          out=np.zeros_like(dat_counts), where=mask)\n",
    "    ratio_err = np.divide(dat_err,     mc_counts,\n",
    "                          out=np.zeros_like(dat_err),    where=mask)\n",
    "    axr.errorbar(bin_centers[mask], ratio[mask],\n",
    "                 yerr=ratio_err[mask], fmt=\"o\")\n",
    "    axr.axhline(1, color=\"gray\", linestyle=\"--\", linewidth=1)\n",
    "    axr.set_ylabel(\"Data/MC\")\n",
    "    axr.set_xlabel(hname)\n",
    "    axr.set_ylim(0.5, 1.5)\n",
    "\n",
    "    # 저장\n",
    "    fig.savefig(f\"{out_dir}/compare_{hname}.png\")\n",
    "    plt.close(fig)\n",
    "\n",
    "print(\"✅ All plots saved in\", out_dir)\n"
   ]
  },
  {
   "cell_type": "code",
   "execution_count": null,
   "id": "7ff3bbdc-9ee8-4c72-86cb-38de519bbbbe",
   "metadata": {},
   "outputs": [],
   "source": []
  }
 ],
 "metadata": {
  "kernelspec": {
   "display_name": "Python 3 (ipykernel)",
   "language": "python",
   "name": "python3"
  },
  "language_info": {
   "codemirror_mode": {
    "name": "ipython",
    "version": 3
   },
   "file_extension": ".py",
   "mimetype": "text/x-python",
   "name": "python",
   "nbconvert_exporter": "python",
   "pygments_lexer": "ipython3",
   "version": "3.10.18"
  }
 },
 "nbformat": 4,
 "nbformat_minor": 5
}
